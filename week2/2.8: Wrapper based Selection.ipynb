{
  "nbformat": 4,
  "nbformat_minor": 0,
  "metadata": {
    "colab": {
      "provenance": []
    },
    "kernelspec": {
      "name": "python3",
      "display_name": "Python 3"
    },
    "language_info": {
      "name": "python"
    }
  },
  "cells": [
    {
      "cell_type": "markdown",
      "source": [
        "# Wrapper based feature selection\n",
        "* wrapper based methods use estimator class rather than scoring function.\n",
        "\n",
        "### RecursiveFeatureElimination:\n",
        "* Uses an estimator to recursively remove features.\n",
        "* Initially fits an estimator on all features.\n",
        "* Obtains feature importance from the estimator and removes the least important feature.\n",
        "* Repeats the process by removing features one by one, until desired number of features are obtained.\n",
        "\n",
        "### Recursive Feature Elimination Cross Validation (RFECV)\n",
        "\n",
        "* Use if we do not want to specify the desired number of features in RFE .\n",
        "* It performs RFE in a cross-validation loop to find the optimal number of features.\n",
        "\n",
        "### SelectFromModel\n",
        "\n",
        "* Selects desired number of important features (as specified with max_features parameter) above certain threshold of feature importance as obtained from the trained estimator.\n",
        "* The feature importance is obtained via coef_, feature_importances_ or an importance_getter callable from the trained estimator.\n",
        "* The feature importance threshold can be specified either numerically or through string argument based on built-in heuristics such as `mean`, `median` and float multiples of these like `0.1*mean`.\n",
        "\n",
        "```python\n",
        "clf = LinearSVC(C=0.01, penalty=\"l1\", dual=False)\n",
        "clf = clf.fit(X, y)\n",
        "clf.coef_\n",
        "model = SelectFromModel(clf, prefit=True)\n",
        "X_new = model.transform(X)\n",
        "```\n",
        "\n",
        "### SequentialFeatureSelector\n",
        "\n",
        "Performs feature selection by selecting or deselecting features one by one in a greedy manner.\n",
        "\n",
        "\n",
        "\n",
        "* The direction parameter controls whether forward or backward SFS is used.\n",
        "* In general, forward and backward selection do not yield equivalent results.\n",
        "* Select the direction that is efficient for the required number of selected features.\n",
        "    * if you want to select 7 features from 10\n",
        "        * forward selection would perform 7 iterations.\n",
        "        * backward selection would perform 3 iterations.\n",
        "* SFS does not require the underlying model to expose a coef_ or feature_importances_ attributes unlike in RFE and SelectFromModel.\n",
        "* SFS may be slower than RFE and SelectFromModel as it needs to evaluate more models compared to the other two approaches.\n",
        "\n",
        "for example in backward selection, the iteration going from from m to m-1 features using k-fold-cross-validation requires fitting $m * k$ models while,\n",
        "* RFE would require only a single fit\n",
        "* SelectFromModel performs a single fit and requires no iterations"
      ],
      "metadata": {
        "id": "MkE3t3KIIG-h"
      }
    },
    {
      "cell_type": "code",
      "execution_count": null,
      "metadata": {
        "id": "wsid_t9_IE-h"
      },
      "outputs": [],
      "source": []
    },
    {
      "cell_type": "markdown",
      "source": [],
      "metadata": {
        "id": "D2o35IevL5dM"
      }
    }
  ]
}
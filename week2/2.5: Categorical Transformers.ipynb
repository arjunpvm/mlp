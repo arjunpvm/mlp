{
  "nbformat": 4,
  "nbformat_minor": 0,
  "metadata": {
    "colab": {
      "provenance": []
    },
    "kernelspec": {
      "name": "python3",
      "display_name": "Python 3"
    },
    "language_info": {
      "name": "python"
    }
  },
  "cells": [
    {
      "cell_type": "markdown",
      "source": [
        "# Categorical Transformers\n",
        "* Feature Encoding\n",
        "* Label Encoding\n",
        "\n",
        "### OneHotEncoding\n",
        "* Encodes categorical feature or label to one-hot numeric array\n",
        "* Creates one binary column for each K unique values.\n",
        "* Exactly one column has 1 and rest are 0.\n",
        "\n",
        "what does it look like?\n",
        "\n",
        "From this:\n",
        "\n",
        "| wine_color |\n",
        "|------------|\n",
        "| red        |\n",
        "| white      |\n",
        "| rosé       |\n",
        "| red        |\n",
        "\n",
        "to this:\n",
        "\n",
        "| red | white | rosé |\n",
        "|-----|-------|------|\n",
        "| 1   | 0     | 0    |\n",
        "| 0   | 1     | 0    |\n",
        "| 0   | 0     | 1    |\n",
        "| 1   | 0     | 0    |\n",
        "\n",
        "here also we can use fit_transform on OneHotEncoder the fit scans for all unique column entries and transform builds a binary vector for each of the unique categories\n",
        "\n",
        "it outputs a SciPy sparse matrix rather than numpy array to save the space if we have a large no of categories.\n",
        "\n",
        "we can use `toarray` to convert it to numpy array and the list of categories can be viewed by `categories_` method"
      ],
      "metadata": {
        "id": "m3uaJsywrh6y"
      }
    },
    {
      "cell_type": "code",
      "source": [
        "import numpy as np\n",
        "from sklearn.preprocessing import OneHotEncoder\n",
        "\n",
        "data = np.array([[\"red\"], [\"white\"], [\"rose\"], [\"red\"]])\n",
        "\n",
        "ohe = OneHotEncoder()\n",
        "ohe.fit_transform(data).toarray()"
      ],
      "metadata": {
        "colab": {
          "base_uri": "https://localhost:8080/",
          "height": 0
        },
        "id": "UjPs_2u8w8ub",
        "outputId": "2625e024-3294-4070-9512-6591acfe9896"
      },
      "execution_count": 1,
      "outputs": [
        {
          "output_type": "execute_result",
          "data": {
            "text/plain": [
              "array([[1., 0., 0.],\n",
              "       [0., 0., 1.],\n",
              "       [0., 1., 0.],\n",
              "       [1., 0., 0.]])"
            ]
          },
          "metadata": {},
          "execution_count": 1
        }
      ]
    },
    {
      "cell_type": "code",
      "source": [
        "ohe.categories_"
      ],
      "metadata": {
        "colab": {
          "base_uri": "https://localhost:8080/"
        },
        "id": "Onhc8Ycxx7OZ",
        "outputId": "509f0836-888e-4728-bfd8-982f33ef89e6"
      },
      "execution_count": null,
      "outputs": [
        {
          "output_type": "execute_result",
          "data": {
            "text/plain": [
              "[array(['red', 'rose', 'white'], dtype='<U5')]"
            ]
          },
          "metadata": {},
          "execution_count": 5
        }
      ]
    },
    {
      "cell_type": "markdown",
      "source": [
        "### Label Encoding:\n",
        "* encodes target labels with value between 0 to K-1, where K is the no of distinct values\n"
      ],
      "metadata": {
        "id": "zqsKAhlEye4w"
      }
    },
    {
      "cell_type": "code",
      "source": [
        "from sklearn.preprocessing import LabelEncoder\n",
        "\n",
        "data = np.array([[1], [2], [6], [1], [8], [6]])\n",
        "\n",
        "le = LabelEncoder()\n",
        "le.fit_transform(data)"
      ],
      "metadata": {
        "colab": {
          "base_uri": "https://localhost:8080/"
        },
        "id": "oUPN1PYXzAJ4",
        "outputId": "86ac8cd2-9a96-4bb6-e679-18f5d5adf079"
      },
      "execution_count": null,
      "outputs": [
        {
          "output_type": "stream",
          "name": "stderr",
          "text": [
            "/usr/local/lib/python3.11/dist-packages/sklearn/preprocessing/_label.py:110: DataConversionWarning: A column-vector y was passed when a 1d array was expected. Please change the shape of y to (n_samples, ), for example using ravel().\n",
            "  y = column_or_1d(y, warn=True)\n"
          ]
        },
        {
          "output_type": "execute_result",
          "data": {
            "text/plain": [
              "array([0, 1, 2, 0, 3, 2])"
            ]
          },
          "metadata": {},
          "execution_count": 7
        }
      ]
    },
    {
      "cell_type": "markdown",
      "source": [
        "### Ordinal Encoder:\n",
        "* encodes target labels with value between 0 to K-1, where K is the no of distinct values\n"
      ],
      "metadata": {
        "id": "24Dq3xAOzj47"
      }
    },
    {
      "cell_type": "code",
      "source": [
        "from sklearn.preprocessing import OrdinalEncoder\n",
        "\n",
        "data = np.array([[1, \"male\"], [2, \"female\"], [6, \"female\"], [1, \"male\"], [8, \"male\"], [6, \"female\"]])\n",
        "\n",
        "oe = OrdinalEncoder()\n",
        "oe.fit_transform(data)"
      ],
      "metadata": {
        "colab": {
          "base_uri": "https://localhost:8080/"
        },
        "id": "tsFdzduqz3hF",
        "outputId": "97246982-e32b-429c-9b61-a5ab41ead7d7"
      },
      "execution_count": null,
      "outputs": [
        {
          "output_type": "execute_result",
          "data": {
            "text/plain": [
              "array([[0., 1.],\n",
              "       [1., 0.],\n",
              "       [2., 0.],\n",
              "       [0., 1.],\n",
              "       [3., 1.],\n",
              "       [2., 0.]])"
            ]
          },
          "metadata": {},
          "execution_count": 10
        }
      ]
    },
    {
      "cell_type": "markdown",
      "source": [
        "* OrdinalEncoder can operate multi dimensional data, while LabelEncoder can transform only 1D data."
      ],
      "metadata": {
        "id": "POpQ3qvB049K"
      }
    },
    {
      "cell_type": "markdown",
      "source": [
        "### LabelBinarizer\n",
        "* several regression and binary classification can be extended to multi-class setup in one-vs-all fashion\n",
        "* this involves training a single regressor or classifier per class.\n",
        "* for this we need to convert multi-class labels to binay labels and LabelBinarizer helps us to do this.\n"
      ],
      "metadata": {
        "id": "iB9jPNwbEprI"
      }
    },
    {
      "cell_type": "code",
      "source": [
        "from sklearn.preprocessing import LabelBinarizer\n",
        "\n",
        "data = np.array([[1], [2], [6], [1], [8], [6]])\n",
        "\n",
        "lb = LabelBinarizer()\n",
        "lb.fit_transform(data)"
      ],
      "metadata": {
        "colab": {
          "base_uri": "https://localhost:8080/",
          "height": 0
        },
        "id": "FiwJWm77FPVj",
        "outputId": "46d40cb4-a1bd-4f06-b320-7c46926995da"
      },
      "execution_count": 4,
      "outputs": [
        {
          "output_type": "execute_result",
          "data": {
            "text/plain": [
              "array([[1, 0, 0, 0],\n",
              "       [0, 1, 0, 0],\n",
              "       [0, 0, 1, 0],\n",
              "       [1, 0, 0, 0],\n",
              "       [0, 0, 0, 1],\n",
              "       [0, 0, 1, 0]])"
            ]
          },
          "metadata": {},
          "execution_count": 4
        }
      ]
    },
    {
      "cell_type": "markdown",
      "source": [
        "* if estimator supports multi-class data, there is no need for LabelBinarizer.\n",
        "\n",
        "### MultiLabelBinarizer\n",
        "* It encodes categorical features with value between 0 to K-1 where K is the no of classes\n",
        "* in the given example $ K = 4 $ since the no of genres of movies is 4"
      ],
      "metadata": {
        "id": "R_S_OBWVFxAu"
      }
    },
    {
      "cell_type": "code",
      "source": [
        "from sklearn.preprocessing import MultiLabelBinarizer\n",
        "\n",
        "movie_genres = [\n",
        "    {\"action\", \"comedy\"},\n",
        "    {\"comedy\"},\n",
        "    {\"action\", \"thriller\"},\n",
        "    {\"sci-fi\", \"action\", \"thriller\"}]\n",
        "\n",
        "mlb = MultiLabelBinarizer()\n",
        "mlb.fit_transform(movie_genres)"
      ],
      "metadata": {
        "colab": {
          "base_uri": "https://localhost:8080/",
          "height": 0
        },
        "id": "k8a04MX5Gj_V",
        "outputId": "b8328f4a-73eb-4269-d8fe-ca4ff0eba99c"
      },
      "execution_count": 6,
      "outputs": [
        {
          "output_type": "execute_result",
          "data": {
            "text/plain": [
              "array([[1, 1, 0, 0],\n",
              "       [0, 1, 0, 0],\n",
              "       [1, 0, 0, 1],\n",
              "       [1, 0, 1, 1]])"
            ]
          },
          "metadata": {},
          "execution_count": 6
        }
      ]
    },
    {
      "cell_type": "markdown",
      "source": [
        "### add_dummy_feature\n",
        "* Augments the dataset with a column vector, each value in the vector is 1."
      ],
      "metadata": {
        "id": "OBOQ_xYaH32B"
      }
    },
    {
      "cell_type": "code",
      "source": [
        "from sklearn.preprocessing import add_dummy_feature\n",
        "\n",
        "data = np.array([[7, 1], [1, 8], [2, 0], [9, 6]])\n",
        "\n",
        "add_dummy_feature(data)"
      ],
      "metadata": {
        "colab": {
          "base_uri": "https://localhost:8080/",
          "height": 0
        },
        "id": "4rG0CrWKIBuk",
        "outputId": "00521957-ffba-421c-9fc7-df87f3513c9a"
      },
      "execution_count": 7,
      "outputs": [
        {
          "output_type": "execute_result",
          "data": {
            "text/plain": [
              "array([[1., 7., 1.],\n",
              "       [1., 1., 8.],\n",
              "       [1., 2., 0.],\n",
              "       [1., 9., 6.]])"
            ]
          },
          "metadata": {},
          "execution_count": 7
        }
      ]
    }
  ]
}
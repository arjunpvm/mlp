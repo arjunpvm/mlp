{
  "nbformat": 4,
  "nbformat_minor": 0,
  "metadata": {
    "colab": {
      "provenance": []
    },
    "kernelspec": {
      "name": "python3",
      "display_name": "Python 3"
    },
    "language_info": {
      "name": "python"
    }
  },
  "cells": [
    {
      "cell_type": "markdown",
      "source": [
        "# Demonstration of sklearn dataset api\n",
        "## Loaders\n",
        "### Loading the iris dataset\n"
      ],
      "metadata": {
        "id": "al-Tob7J6Ba1"
      }
    },
    {
      "cell_type": "code",
      "execution_count": 1,
      "metadata": {
        "id": "e4Ip_Ljt5max"
      },
      "outputs": [],
      "source": [
        "from sklearn.datasets import load_iris\n",
        "data = load_iris()"
      ]
    },
    {
      "cell_type": "markdown",
      "source": [
        "* It gives you a **Bunch** object (fancy dictionary), which contains several fields like this\n",
        "```python\n",
        "{\n",
        "  'data': [[...], [...], ...],       # Features (numerical, 4 per flower), a numpy array\n",
        "  'target': [0, 1, 2, ...],          # Labels (what species each flower is), a numpy array\n",
        "  'target_names': ['setosa', ...],  # Names of the classes\n",
        "  'feature_names': ['sepal length (cm)', ...],\n",
        "  'DESCR': 'Massive description text',\n",
        "  'frame': pandas.DataFrame (optional)\n",
        "}\n",
        "```"
      ],
      "metadata": {
        "id": "XUNQWWru_Bqd"
      }
    },
    {
      "cell_type": "code",
      "source": [
        "type(data)"
      ],
      "metadata": {
        "colab": {
          "base_uri": "https://localhost:8080/",
          "height": 186
        },
        "id": "u3AX08MQ_uCR",
        "outputId": "891f5f32-7034-44ea-d96f-7bb2b2df7a76"
      },
      "execution_count": null,
      "outputs": [
        {
          "output_type": "execute_result",
          "data": {
            "text/plain": [
              "sklearn.utils._bunch.Bunch"
            ],
            "text/html": [
              "<div style=\"max-width:800px; border: 1px solid var(--colab-border-color);\"><style>\n",
              "      pre.function-repr-contents {\n",
              "        overflow-x: auto;\n",
              "        padding: 8px 12px;\n",
              "        max-height: 500px;\n",
              "      }\n",
              "\n",
              "      pre.function-repr-contents.function-repr-contents-collapsed {\n",
              "        cursor: pointer;\n",
              "        max-height: 100px;\n",
              "      }\n",
              "    </style>\n",
              "    <pre style=\"white-space: initial; background:\n",
              "         var(--colab-secondary-surface-color); padding: 8px 12px;\n",
              "         border-bottom: 1px solid var(--colab-border-color);\"><b>sklearn.utils._bunch.Bunch</b><br/>def __init__(**kwargs)</pre><pre class=\"function-repr-contents function-repr-contents-collapsed\" style=\"\"><a class=\"filepath\" style=\"display:none\" href=\"#\">/usr/local/lib/python3.11/dist-packages/sklearn/utils/_bunch.py</a>Container object exposing keys as attributes.\n",
              "\n",
              "Bunch objects are sometimes used as an output for functions and methods.\n",
              "They extend dictionaries by enabling values to be accessed by key,\n",
              "`bunch[&quot;value_key&quot;]`, or by an attribute, `bunch.value_key`.\n",
              "\n",
              "Examples\n",
              "--------\n",
              "&gt;&gt;&gt; from sklearn.utils import Bunch\n",
              "&gt;&gt;&gt; b = Bunch(a=1, b=2)\n",
              "&gt;&gt;&gt; b[&#x27;b&#x27;]\n",
              "2\n",
              "&gt;&gt;&gt; b.b\n",
              "2\n",
              "&gt;&gt;&gt; b.a = 3\n",
              "&gt;&gt;&gt; b[&#x27;a&#x27;]\n",
              "3\n",
              "&gt;&gt;&gt; b.c = 6\n",
              "&gt;&gt;&gt; b[&#x27;c&#x27;]\n",
              "6</pre>\n",
              "      <script>\n",
              "      if (google.colab.kernel.accessAllowed && google.colab.files && google.colab.files.view) {\n",
              "        for (const element of document.querySelectorAll('.filepath')) {\n",
              "          element.style.display = 'block'\n",
              "          element.onclick = (event) => {\n",
              "            event.preventDefault();\n",
              "            event.stopPropagation();\n",
              "            google.colab.files.view(element.textContent, 7);\n",
              "          };\n",
              "        }\n",
              "      }\n",
              "      for (const element of document.querySelectorAll('.function-repr-contents')) {\n",
              "        element.onclick = (event) => {\n",
              "          event.preventDefault();\n",
              "          event.stopPropagation();\n",
              "          element.classList.toggle('function-repr-contents-collapsed');\n",
              "        };\n",
              "      }\n",
              "      </script>\n",
              "      </div>"
            ]
          },
          "metadata": {},
          "execution_count": 3
        }
      ]
    },
    {
      "cell_type": "code",
      "source": [
        "data.feature_names"
      ],
      "metadata": {
        "colab": {
          "base_uri": "https://localhost:8080/"
        },
        "id": "pF50YuqAACRc",
        "outputId": "41441861-a784-47c1-b7e8-feb650c2cb0e"
      },
      "execution_count": null,
      "outputs": [
        {
          "output_type": "execute_result",
          "data": {
            "text/plain": [
              "['sepal length (cm)',\n",
              " 'sepal width (cm)',\n",
              " 'petal length (cm)',\n",
              " 'petal width (cm)']"
            ]
          },
          "metadata": {},
          "execution_count": 4
        }
      ]
    },
    {
      "cell_type": "code",
      "source": [
        "data.target_names"
      ],
      "metadata": {
        "colab": {
          "base_uri": "https://localhost:8080/"
        },
        "id": "Dt6mPrC2AnTu",
        "outputId": "1cafd76c-8a8b-49c4-ac6a-e6b6e6f8bb93"
      },
      "execution_count": null,
      "outputs": [
        {
          "output_type": "execute_result",
          "data": {
            "text/plain": [
              "array(['setosa', 'versicolor', 'virginica'], dtype='<U10')"
            ]
          },
          "metadata": {},
          "execution_count": 12
        }
      ]
    },
    {
      "cell_type": "code",
      "source": [
        "data.target"
      ],
      "metadata": {
        "colab": {
          "base_uri": "https://localhost:8080/"
        },
        "id": "qTeb8HjQClL1",
        "outputId": "8dd7ea5e-ebb9-4813-be38-cf390bc796d0"
      },
      "execution_count": null,
      "outputs": [
        {
          "output_type": "execute_result",
          "data": {
            "text/plain": [
              "array([0, 0, 0, 0, 0, 0, 0, 0, 0, 0, 0, 0, 0, 0, 0, 0, 0, 0, 0, 0, 0, 0,\n",
              "       0, 0, 0, 0, 0, 0, 0, 0, 0, 0, 0, 0, 0, 0, 0, 0, 0, 0, 0, 0, 0, 0,\n",
              "       0, 0, 0, 0, 0, 0, 1, 1, 1, 1, 1, 1, 1, 1, 1, 1, 1, 1, 1, 1, 1, 1,\n",
              "       1, 1, 1, 1, 1, 1, 1, 1, 1, 1, 1, 1, 1, 1, 1, 1, 1, 1, 1, 1, 1, 1,\n",
              "       1, 1, 1, 1, 1, 1, 1, 1, 1, 1, 1, 1, 2, 2, 2, 2, 2, 2, 2, 2, 2, 2,\n",
              "       2, 2, 2, 2, 2, 2, 2, 2, 2, 2, 2, 2, 2, 2, 2, 2, 2, 2, 2, 2, 2, 2,\n",
              "       2, 2, 2, 2, 2, 2, 2, 2, 2, 2, 2, 2, 2, 2, 2, 2, 2, 2])"
            ]
          },
          "metadata": {},
          "execution_count": 13
        }
      ]
    },
    {
      "cell_type": "code",
      "source": [
        "type(data.data)"
      ],
      "metadata": {
        "colab": {
          "base_uri": "https://localhost:8080/"
        },
        "id": "rN1O_HAaA91n",
        "outputId": "74084d2e-33d0-4c09-faaa-496a23874415"
      },
      "execution_count": null,
      "outputs": [
        {
          "output_type": "execute_result",
          "data": {
            "text/plain": [
              "numpy.ndarray"
            ]
          },
          "metadata": {},
          "execution_count": 8
        }
      ]
    },
    {
      "cell_type": "code",
      "source": [
        "data.data.shape # (150, 4) 150 data points and 4 features"
      ],
      "metadata": {
        "colab": {
          "base_uri": "https://localhost:8080/"
        },
        "id": "9K_55IWeBK-r",
        "outputId": "02a77df0-f256-4884-bd89-4976ba50e613"
      },
      "execution_count": null,
      "outputs": [
        {
          "output_type": "execute_result",
          "data": {
            "text/plain": [
              "(150, 4)"
            ]
          },
          "metadata": {},
          "execution_count": 15
        }
      ]
    },
    {
      "cell_type": "code",
      "source": [
        "data.data[:5]"
      ],
      "metadata": {
        "colab": {
          "base_uri": "https://localhost:8080/"
        },
        "id": "e_8C36V-DIFU",
        "outputId": "2027990b-14f1-4621-aff1-6f82d89ca2c0"
      },
      "execution_count": null,
      "outputs": [
        {
          "output_type": "execute_result",
          "data": {
            "text/plain": [
              "array([[5.1, 3.5, 1.4, 0.2],\n",
              "       [4.9, 3. , 1.4, 0.2],\n",
              "       [4.7, 3.2, 1.3, 0.2],\n",
              "       [4.6, 3.1, 1.5, 0.2],\n",
              "       [5. , 3.6, 1.4, 0.2]])"
            ]
          },
          "metadata": {},
          "execution_count": 14
        }
      ]
    },
    {
      "cell_type": "code",
      "source": [
        "# to obtain the feature matrix and the label vector\n",
        "feature_matrix, label_vector = load_iris(return_X_y=True)\n",
        "print(\"shape of feature matrix: \", feature_matrix.shape)\n",
        "print(\"shape of label vector: \", label_vector.shape)"
      ],
      "metadata": {
        "colab": {
          "base_uri": "https://localhost:8080/"
        },
        "id": "Ud5k9LYADfJE",
        "outputId": "0a614f5d-cc01-4425-f4b7-ecfda14c7984"
      },
      "execution_count": null,
      "outputs": [
        {
          "output_type": "stream",
          "name": "stdout",
          "text": [
            "shape of feature matrix:  (150, 4)\n",
            "shape of label vector:  (150,)\n"
          ]
        }
      ]
    },
    {
      "cell_type": "markdown",
      "source": [
        "### Loading the diabetes dataset"
      ],
      "metadata": {
        "id": "P0QPo4uqETBb"
      }
    },
    {
      "cell_type": "code",
      "source": [
        "from sklearn.datasets import load_diabetes\n",
        "data = load_diabetes()"
      ],
      "metadata": {
        "id": "UZ2dmy8OEeH0"
      },
      "execution_count": null,
      "outputs": []
    },
    {
      "cell_type": "code",
      "source": [
        "data.data.shape # it has 442 samples with 10 features"
      ],
      "metadata": {
        "colab": {
          "base_uri": "https://localhost:8080/"
        },
        "id": "EDoCmNVxEsRU",
        "outputId": "8ef432a0-33b0-4f97-c940-89d87233f5a1"
      },
      "execution_count": null,
      "outputs": [
        {
          "output_type": "execute_result",
          "data": {
            "text/plain": [
              "(442, 10)"
            ]
          },
          "metadata": {},
          "execution_count": 20
        }
      ]
    },
    {
      "cell_type": "markdown",
      "source": [
        "## Fetchers"
      ],
      "metadata": {
        "id": "9hho72iOFdxc"
      }
    },
    {
      "cell_type": "code",
      "source": [
        "from sklearn.datasets import fetch_california_housing\n",
        "housing_data = fetch_california_housing()"
      ],
      "metadata": {
        "id": "arv5_enPFuz_"
      },
      "execution_count": null,
      "outputs": []
    },
    {
      "cell_type": "code",
      "source": [
        "housing_data.data.shape"
      ],
      "metadata": {
        "colab": {
          "base_uri": "https://localhost:8080/"
        },
        "id": "o1xUMo5rF6u3",
        "outputId": "bb0747ff-d6cd-42c0-848c-455fa2f41f3c"
      },
      "execution_count": null,
      "outputs": [
        {
          "output_type": "execute_result",
          "data": {
            "text/plain": [
              "(20640, 8)"
            ]
          },
          "metadata": {},
          "execution_count": 23
        }
      ]
    },
    {
      "cell_type": "markdown",
      "source": [
        "### `fetch_openml`:\n",
        "\n",
        "openml.org is a public repository for machine learning data and experiments that allows everybody to upload datasets."
      ],
      "metadata": {
        "id": "40TQRUF6GT_Q"
      }
    },
    {
      "cell_type": "code",
      "source": [
        "from sklearn.datasets import fetch_openml"
      ],
      "metadata": {
        "id": "dSmfHAWjGdhG"
      },
      "execution_count": null,
      "outputs": []
    },
    {
      "cell_type": "code",
      "source": [
        "feature_matrix, label_vector = fetch_openml(\"mnist_784\", version = 1, return_X_y=True) # mnist_784 is the name of the data set\n",
        "print(\"shape of feature_matrix: \", feature_matrix.shape)\n",
        "print(\"shape of label_vector: \", label_vector.shape)"
      ],
      "metadata": {
        "colab": {
          "base_uri": "https://localhost:8080/"
        },
        "id": "AJWy2WMXGqj5",
        "outputId": "9bdaa772-d99f-434d-f7de-dc91690c1ed6"
      },
      "execution_count": null,
      "outputs": [
        {
          "output_type": "stream",
          "name": "stdout",
          "text": [
            "shape of feature_matrix:  (70000, 784)\n",
            "shape of label_vector:  (70000,)\n"
          ]
        }
      ]
    },
    {
      "cell_type": "markdown",
      "source": [
        "## Generators:\n",
        "### `make_regression`"
      ],
      "metadata": {
        "id": "9hgV5gRcH8iO"
      }
    },
    {
      "cell_type": "code",
      "source": [
        "from sklearn.datasets import make_regression\n"
      ],
      "metadata": {
        "id": "e-e5mEvkIDsE"
      },
      "execution_count": null,
      "outputs": []
    },
    {
      "cell_type": "markdown",
      "source": [
        "Lets generate 100 samples with 5 features for a single label regression problem"
      ],
      "metadata": {
        "id": "GwpIf2g2InRJ"
      }
    },
    {
      "cell_type": "code",
      "source": [
        "X, y = make_regression(n_samples=100, n_features=5, n_targets=1, shuffle=True, random_state=42)\n",
        "print(X.shape)\n",
        "print(y.shape)"
      ],
      "metadata": {
        "colab": {
          "base_uri": "https://localhost:8080/"
        },
        "id": "e6cHY2UnIz1I",
        "outputId": "9f297858-7787-4a7f-e337-23ce86e4698f"
      },
      "execution_count": null,
      "outputs": [
        {
          "output_type": "stream",
          "name": "stdout",
          "text": [
            "(100, 5)\n",
            "(100,)\n"
          ]
        }
      ]
    },
    {
      "cell_type": "markdown",
      "source": [
        "Lets generate 100 samples with 5 features for a multiple label regression problem with 5 outputs."
      ],
      "metadata": {
        "id": "eH5BfZY6JN-A"
      }
    },
    {
      "cell_type": "code",
      "source": [
        "X, y = make_regression(n_samples=100, n_features=5, n_targets=5, shuffle=True, random_state=42)\n",
        "print(X.shape)\n",
        "print(y.shape)"
      ],
      "metadata": {
        "colab": {
          "base_uri": "https://localhost:8080/"
        },
        "id": "DZQ5Oc4bJUR9",
        "outputId": "e10dc2f7-90b0-43c6-cdf9-5d7a83db8fcc"
      },
      "execution_count": null,
      "outputs": [
        {
          "output_type": "stream",
          "name": "stdout",
          "text": [
            "(100, 5)\n",
            "(100, 5)\n"
          ]
        }
      ]
    },
    {
      "cell_type": "markdown",
      "source": [
        "### Make classification\n",
        "* generate a random n-class classification problem setup"
      ],
      "metadata": {
        "id": "VchivSRwaq4c"
      }
    },
    {
      "cell_type": "code",
      "source": [
        "from sklearn.datasets import make_classification\n",
        "\n",
        "X, y = make_classification(n_samples=100, n_classes=2, n_features=10, n_clusters_per_class=1, random_state=42)\n",
        "print(\"shape of X: \", X.shape)\n",
        "print(\"shape of y: \", y.shape)\n"
      ],
      "metadata": {
        "colab": {
          "base_uri": "https://localhost:8080/"
        },
        "id": "T1rCco3Maqfo",
        "outputId": "31a41fe3-6ab3-4085-aff2-bb2881318e4c"
      },
      "execution_count": 2,
      "outputs": [
        {
          "output_type": "stream",
          "name": "stdout",
          "text": [
            "shape of X:  (100, 10)\n",
            "shape of y:  (100,)\n"
          ]
        }
      ]
    },
    {
      "cell_type": "code",
      "source": [
        "X[:5]"
      ],
      "metadata": {
        "colab": {
          "base_uri": "https://localhost:8080/"
        },
        "id": "dgQsFyfaPN9s",
        "outputId": "210ca11e-b3bb-4589-afe7-4f80fc5c2b95"
      },
      "execution_count": 4,
      "outputs": [
        {
          "output_type": "execute_result",
          "data": {
            "text/plain": [
              "array([[ 0.11422765, -1.71016839, -0.06822216, -0.14928517,  0.30780177,\n",
              "         0.15030176, -0.05694562, -0.22595246, -0.36361221, -0.13818757],\n",
              "       [ 0.70775194, -1.57022472, -0.23503183, -0.63604713,  0.62180996,\n",
              "        -0.56246678,  0.97255445, -0.77719676,  0.63240774, -0.47809669],\n",
              "       [ 0.63859246,  0.04739867,  0.33273433,  1.1046981 , -0.65183611,\n",
              "        -1.66152006, -1.2110162 ,  1.09821151, -0.0660798 ,  0.68024225],\n",
              "       [-0.23894805, -0.97755524,  0.0379061 ,  0.19896733,  0.50091719,\n",
              "        -0.90756366,  0.75539123,  0.12437227, -0.57677133,  0.07871283],\n",
              "       [-0.59239392, -0.05023811,  0.17573204, -1.43949185,  0.27045683,\n",
              "        -0.86399077, -0.83095012,  0.60046915,  0.04852163,  0.32557953]])"
            ]
          },
          "metadata": {},
          "execution_count": 4
        }
      ]
    },
    {
      "cell_type": "code",
      "source": [
        "y[:5]"
      ],
      "metadata": {
        "colab": {
          "base_uri": "https://localhost:8080/"
        },
        "id": "hsDLxFWMQhdB",
        "outputId": "f7f73e8a-9b64-428b-c15b-14a949acf436"
      },
      "execution_count": 6,
      "outputs": [
        {
          "output_type": "execute_result",
          "data": {
            "text/plain": [
              "array([1, 1, 1, 1, 0])"
            ]
          },
          "metadata": {},
          "execution_count": 6
        }
      ]
    },
    {
      "cell_type": "markdown",
      "source": [
        "lets create a classification with 3 classification"
      ],
      "metadata": {
        "id": "kvXhqzYVRKW0"
      }
    },
    {
      "cell_type": "code",
      "source": [
        "X, y = make_classification(n_samples=100, n_features=10, n_classes=3, n_clusters_per_class=1, random_state=42)\n",
        "print(\"shape of X: \", X.shape)\n",
        "print(\"shape of y: \", y.shape)"
      ],
      "metadata": {
        "colab": {
          "base_uri": "https://localhost:8080/"
        },
        "id": "-DW_K94FQpId",
        "outputId": "f66b5f3f-126a-4276-dcd0-720d365d192b"
      },
      "execution_count": 7,
      "outputs": [
        {
          "output_type": "stream",
          "name": "stdout",
          "text": [
            "shape of X:  (100, 10)\n",
            "shape of y:  (100,)\n"
          ]
        }
      ]
    },
    {
      "cell_type": "code",
      "source": [
        "X[:5]"
      ],
      "metadata": {
        "colab": {
          "base_uri": "https://localhost:8080/"
        },
        "id": "z680IIpFRp_K",
        "outputId": "253aa562-fffe-4178-8e3a-ea32fd3aac43"
      },
      "execution_count": 9,
      "outputs": [
        {
          "output_type": "execute_result",
          "data": {
            "text/plain": [
              "array([[-0.58351628, -1.73833907, -1.37298251, -1.77311485,  0.45918008,\n",
              "         0.83392215, -1.66096093,  0.20768769, -0.07016571,  0.42961822],\n",
              "       [-1.0044394 , -1.43862044,  0.47335819, -0.21188291,  0.0125924 ,\n",
              "         0.22409248, -0.77300978,  0.49799829,  0.0976761 ,  0.02451017],\n",
              "       [ 0.07740833,  0.19896733,  0.12437227,  0.17738132, -0.97755524,\n",
              "         0.50091719,  0.75138712,  0.54336019,  0.09933231, -1.66940528],\n",
              "       [-0.91759569, -0.9609536 ,  1.07746664,  0.4522739 , -0.32138584,\n",
              "        -0.8254972 , -0.56372455,  0.24368721,  0.41293145, -0.8222204 ],\n",
              "       [-0.96222828, -0.96090774,  1.21530116,  0.55980482, -1.24778318,\n",
              "        -0.25256815, -1.43014138,  0.13074058,  1.6324113 , -0.44004449]])"
            ]
          },
          "metadata": {},
          "execution_count": 9
        }
      ]
    },
    {
      "cell_type": "code",
      "source": [
        "y[:5]"
      ],
      "metadata": {
        "colab": {
          "base_uri": "https://localhost:8080/"
        },
        "id": "2GFmNAcZRr4L",
        "outputId": "30532819-8ed8-4110-e19c-fe27fc8c25ef"
      },
      "execution_count": 11,
      "outputs": [
        {
          "output_type": "execute_result",
          "data": {
            "text/plain": [
              "array([2, 0, 1, 0, 0])"
            ]
          },
          "metadata": {},
          "execution_count": 11
        }
      ]
    },
    {
      "cell_type": "markdown",
      "source": [
        "### `make_multilabel_classification`\n",
        "lets create a multilabel classification with 100 samples, 10 features, 5 labels, and on average 2 labels per example"
      ],
      "metadata": {
        "id": "svIGcR0UR5d4"
      }
    },
    {
      "cell_type": "code",
      "source": [
        "from sklearn.datasets import make_multilabel_classification\n",
        "\n",
        "X, y = make_multilabel_classification(n_samples=100, n_features=20, n_labels=2, n_classes=5)\n",
        "\n",
        "print(\"shape of X: \", X.shape)\n",
        "print(\"shape of y: \", y.shape)"
      ],
      "metadata": {
        "colab": {
          "base_uri": "https://localhost:8080/"
        },
        "id": "J_ntC3mtR4uU",
        "outputId": "a77ac572-9be9-42c6-d703-d15d570cdf5b"
      },
      "execution_count": 16,
      "outputs": [
        {
          "output_type": "stream",
          "name": "stdout",
          "text": [
            "shape of X:  (100, 20)\n",
            "shape of y:  (100, 5)\n"
          ]
        }
      ]
    },
    {
      "cell_type": "code",
      "source": [
        "X[:5]"
      ],
      "metadata": {
        "colab": {
          "base_uri": "https://localhost:8080/"
        },
        "id": "Hv0e08zYTAzh",
        "outputId": "a45a32e7-7bfc-4e2d-8934-df36542747b8"
      },
      "execution_count": 17,
      "outputs": [
        {
          "output_type": "execute_result",
          "data": {
            "text/plain": [
              "array([[1., 0., 2., 3., 3., 2., 4., 2., 0., 4., 0., 1., 1., 4., 1., 1.,\n",
              "        3., 4., 6., 0.],\n",
              "       [1., 1., 1., 2., 5., 3., 2., 3., 4., 1., 0., 1., 3., 3., 3., 4.,\n",
              "        1., 2., 1., 0.],\n",
              "       [3., 0., 6., 7., 3., 0., 4., 0., 2., 1., 4., 0., 0., 3., 4., 1.,\n",
              "        4., 1., 0., 3.],\n",
              "       [1., 0., 1., 1., 1., 3., 4., 3., 1., 4., 0., 1., 3., 3., 3., 3.,\n",
              "        1., 2., 5., 1.],\n",
              "       [2., 3., 2., 4., 3., 0., 3., 2., 0., 7., 3., 0., 1., 1., 3., 5.,\n",
              "        2., 3., 4., 3.]])"
            ]
          },
          "metadata": {},
          "execution_count": 17
        }
      ]
    },
    {
      "cell_type": "code",
      "source": [
        "y[:5]"
      ],
      "metadata": {
        "colab": {
          "base_uri": "https://localhost:8080/"
        },
        "id": "2CyJPWOrTCwL",
        "outputId": "bc2c2a7a-df59-447b-f586-0532f4c15b02"
      },
      "execution_count": 18,
      "outputs": [
        {
          "output_type": "execute_result",
          "data": {
            "text/plain": [
              "array([[0, 0, 0, 0, 1],\n",
              "       [1, 0, 0, 1, 1],\n",
              "       [1, 0, 0, 0, 0],\n",
              "       [0, 0, 0, 0, 1],\n",
              "       [1, 0, 0, 0, 1]])"
            ]
          },
          "metadata": {},
          "execution_count": 18
        }
      ]
    },
    {
      "cell_type": "markdown",
      "source": [
        "### `make_blobs`\n",
        "make_blobs helps us generate data for clusters."
      ],
      "metadata": {
        "id": "91TQUK3IT0P5"
      }
    },
    {
      "cell_type": "code",
      "source": [
        "from sklearn.datasets import make_blobs\n",
        "\n",
        "X, y = make_blobs(n_samples=10, n_features=2, centers=3, random_state=42)\n",
        "print(\"shape of X: \", X.shape)\n",
        "print(\"shape of y: \", y.shape)"
      ],
      "metadata": {
        "colab": {
          "base_uri": "https://localhost:8080/"
        },
        "id": "7dtR7nztUGJX",
        "outputId": "cd5e36b0-80c6-46b9-95fa-ff2c5ce73895"
      },
      "execution_count": 20,
      "outputs": [
        {
          "output_type": "stream",
          "name": "stdout",
          "text": [
            "shape of X:  (10, 2)\n",
            "shape of y:  (10,)\n"
          ]
        }
      ]
    },
    {
      "cell_type": "code",
      "source": [
        "y"
      ],
      "metadata": {
        "colab": {
          "base_uri": "https://localhost:8080/"
        },
        "id": "mBQsUDv1Ule2",
        "outputId": "81efb887-196f-4e71-b9b1-7d002a8f1046"
      },
      "execution_count": 21,
      "outputs": [
        {
          "output_type": "execute_result",
          "data": {
            "text/plain": [
              "array([2, 2, 1, 2, 0, 0, 0, 1, 1, 0])"
            ]
          },
          "metadata": {},
          "execution_count": 21
        }
      ]
    }
  ]
}
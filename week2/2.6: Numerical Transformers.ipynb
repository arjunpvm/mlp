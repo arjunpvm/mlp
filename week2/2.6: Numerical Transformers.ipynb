{
  "nbformat": 4,
  "nbformat_minor": 0,
  "metadata": {
    "colab": {
      "provenance": []
    },
    "kernelspec": {
      "name": "python3",
      "display_name": "Python 3"
    },
    "language_info": {
      "name": "python"
    }
  },
  "cells": [
    {
      "cell_type": "markdown",
      "source": [
        "# Numeric Transformers\n",
        "* Feature Scaling\n",
        "* polynomial transormation\n",
        "* Discretization"
      ],
      "metadata": {
        "id": "NzrDSPy6Ch_i"
      }
    },
    {
      "cell_type": "markdown",
      "source": [
        "# Feature Scaling\n",
        "* Numeric features with different scales leads to slower convergence of iterative optimization procedures.\n",
        "* It is a good practice to scale numeric features so that all of them are on the same scale.\n",
        "* feature scaling API in sklearn:\n",
        "    * StandardScalar\n",
        "    * MaxAbsScalar\n",
        "    * MinMaxScalar\n",
        "\n",
        "### StandardScalar:\n",
        "* transforms the feature vector into a new feature vector using\n",
        "\n",
        "$$\n",
        "x' = \\frac{x - \\mu}{\\sigma}\n",
        "$$\n",
        "\n",
        "\n"
      ],
      "metadata": {
        "id": "t3jp7RicC3Ui"
      }
    },
    {
      "cell_type": "code",
      "execution_count": 1,
      "metadata": {
        "id": "AtOggVPTCZC4",
        "colab": {
          "base_uri": "https://localhost:8080/"
        },
        "outputId": "818cb32e-826b-4c03-c5ef-26ca6c29c3d6"
      },
      "outputs": [
        {
          "output_type": "execute_result",
          "data": {
            "text/plain": [
              "array([[ 0.        ],\n",
              "       [-0.70710678],\n",
              "       [-1.41421356],\n",
              "       [ 0.70710678],\n",
              "       [ 1.41421356]])"
            ]
          },
          "metadata": {},
          "execution_count": 1
        }
      ],
      "source": [
        "import numpy as np\n",
        "from sklearn.preprocessing import StandardScaler\n",
        "\n",
        "data = np.array([[4], [3], [2], [5], [6]])\n",
        "ss = StandardScaler()\n",
        "ss.fit_transform(data)"
      ]
    },
    {
      "cell_type": "markdown",
      "source": [
        "note that the transformed feature vector now have mean = 0 and sd = 1.\n",
        "\n",
        "### MinMaxScalar\n",
        "* it transforms the original vector to new feature vector so that all the values lie in range [0, 1]\n",
        "\n",
        "$$\n",
        "x' = \\frac{x - x.min}{x.max - x.min}\n",
        "$$"
      ],
      "metadata": {
        "id": "iD25mbNrHbks"
      }
    },
    {
      "cell_type": "code",
      "source": [
        "from sklearn.preprocessing import MinMaxScaler\n",
        "\n",
        "data = np.array([[15],[2], [5], [-2], [-5]])\n",
        "\n",
        "mms = MinMaxScaler()\n",
        "mms.fit_transform(data)"
      ],
      "metadata": {
        "colab": {
          "base_uri": "https://localhost:8080/"
        },
        "id": "v_LNjr3ZI7_E",
        "outputId": "fcde12cd-97da-466e-cb5e-7384aa61bc41"
      },
      "execution_count": 2,
      "outputs": [
        {
          "output_type": "execute_result",
          "data": {
            "text/plain": [
              "array([[1.  ],\n",
              "       [0.35],\n",
              "       [0.5 ],\n",
              "       [0.15],\n",
              "       [0.  ]])"
            ]
          },
          "metadata": {},
          "execution_count": 2
        }
      ]
    },
    {
      "cell_type": "markdown",
      "source": [
        "* the largest number is transformed to 1 and the smallest to 0\n",
        "\n",
        "### MaxAbsScalar\n",
        "* * it transforms the original vector to new feature vector so that all the values lie in range [-1, 1]\n",
        "\n",
        "$$\n",
        "x' = \\frac{x}{MaxAbsoluteValue}\n",
        "$$"
      ],
      "metadata": {
        "id": "NwEWB2rVJ0BG"
      }
    },
    {
      "cell_type": "code",
      "source": [
        "from sklearn.preprocessing import MaxAbsScaler\n",
        "\n",
        "data = np.array([[4], [2], [5], [-2], [-100]])\n",
        "\n",
        "mas = MaxAbsScaler()\n",
        "mas.fit_transform(data)"
      ],
      "metadata": {
        "colab": {
          "base_uri": "https://localhost:8080/"
        },
        "id": "-ewXZMnkKa7q",
        "outputId": "cf62c324-ccb5-46ef-ad7a-c0d60232c81e"
      },
      "execution_count": 3,
      "outputs": [
        {
          "output_type": "execute_result",
          "data": {
            "text/plain": [
              "array([[ 0.04],\n",
              "       [ 0.02],\n",
              "       [ 0.05],\n",
              "       [-0.02],\n",
              "       [-1.  ]])"
            ]
          },
          "metadata": {},
          "execution_count": 3
        }
      ]
    },
    {
      "cell_type": "markdown",
      "source": [
        "### FunctionTransformer:\n",
        "* transforming feature by using user defined function"
      ],
      "metadata": {
        "id": "AcCA8IxrLazb"
      }
    },
    {
      "cell_type": "code",
      "source": [
        "from sklearn.preprocessing import FunctionTransformer\n",
        "\n",
        "data = np.array([\n",
        "    [128, 2],\n",
        "    [2, 256],\n",
        "    [4, 1],\n",
        "    [512, 64]])\n",
        "\n",
        "ft = FunctionTransformer(np.log2) # applies log2 function to the features\n",
        "ft.fit_transform(data)"
      ],
      "metadata": {
        "colab": {
          "base_uri": "https://localhost:8080/"
        },
        "id": "UvoqgJPgLrCs",
        "outputId": "d1813966-3491-4461-cf24-76d67b701a2f"
      },
      "execution_count": 4,
      "outputs": [
        {
          "output_type": "execute_result",
          "data": {
            "text/plain": [
              "array([[7., 1.],\n",
              "       [1., 8.],\n",
              "       [2., 0.],\n",
              "       [9., 6.]])"
            ]
          },
          "metadata": {},
          "execution_count": 4
        }
      ]
    },
    {
      "cell_type": "markdown",
      "source": [
        "# Polynomial Transformations:\n",
        "* generates a new feature matrix consisting of all the polynomial combinations of the features with degrees less than or equal to the specific degree.\n",
        "\n",
        "$$\n",
        "X = [x_1, x_2]\n",
        "$$\n",
        "\n",
        "```\n",
        "pf = PolynomialTransformation()\n",
        "pf.fit_transform(X)\n",
        "```\n",
        "\n",
        "$$\n",
        "X' = [x_1, x_2, x_1x_2, x_1^2, x_2^2]\n",
        "$$"
      ],
      "metadata": {
        "id": "xckufElEMeEe"
      }
    },
    {
      "cell_type": "markdown",
      "source": [
        "### KBinsDiscretizer:\n",
        "* divides a continuous variable into bins\n",
        "* oneHotEncoding or OrdinalEncoding is applied to label the bins."
      ],
      "metadata": {
        "id": "0vcHuEb6qAAT"
      }
    },
    {
      "cell_type": "code",
      "source": [
        "from sklearn.preprocessing import KBinsDiscretizer\n",
        "\n",
        "data = np.array([[0], [0.125], [0.25], [0.375], [0.5], [0.675], [0.75], [0.875], [1]])\n",
        "\n",
        "kbd = KBinsDiscretizer(\n",
        "    n_bins = 5,\n",
        "    strategy=\"uniform\",\n",
        "    encode=\"ordinal\"\n",
        ")\n",
        "kbd.fit_transform(data)"
      ],
      "metadata": {
        "colab": {
          "base_uri": "https://localhost:8080/"
        },
        "id": "WSQTixdFqbuU",
        "outputId": "689f9917-36f1-43f8-bea4-5d0ecb910341"
      },
      "execution_count": 6,
      "outputs": [
        {
          "output_type": "execute_result",
          "data": {
            "text/plain": [
              "array([[0.],\n",
              "       [0.],\n",
              "       [1.],\n",
              "       [1.],\n",
              "       [2.],\n",
              "       [3.],\n",
              "       [3.],\n",
              "       [4.],\n",
              "       [4.]])"
            ]
          },
          "metadata": {},
          "execution_count": 6
        }
      ]
    }
  ]
}